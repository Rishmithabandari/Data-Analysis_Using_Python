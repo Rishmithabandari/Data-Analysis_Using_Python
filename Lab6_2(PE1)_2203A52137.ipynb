{
  "nbformat": 4,
  "nbformat_minor": 0,
  "metadata": {
    "colab": {
      "provenance": []
    },
    "kernelspec": {
      "name": "python3",
      "display_name": "Python 3"
    },
    "language_info": {
      "name": "python"
    }
  },
  "cells": [
    {
      "cell_type": "code",
      "execution_count": 1,
      "metadata": {
        "id": "ZdtL54_7TCOX"
      },
      "outputs": [],
      "source": [
        "import pandas as pd\n",
        "from math import factorial"
      ]
    },
    {
      "cell_type": "code",
      "source": [
        "# Load the dataset\n",
        "dataset_path = \"/content/supermarket_sales -.csv\"\n",
        "df = pd.read_csv(dataset_path)"
      ],
      "metadata": {
        "id": "YUD9m7tnT-fR"
      },
      "execution_count": 2,
      "outputs": []
    },
    {
      "cell_type": "code",
      "source": [
        "# Total transactions\n",
        "total_transactions = len(df)"
      ],
      "metadata": {
        "id": "6odw6AaFUDXv"
      },
      "execution_count": 3,
      "outputs": []
    },
    {
      "cell_type": "code",
      "source": [
        "# Define events\n",
        "A = df['Customer type'] == 'Member'  # Event A: Member customer\n",
        "B = df['Payment'] == 'Credit card'   # Event B: Credit card payment"
      ],
      "metadata": {
        "id": "i3UxC66yUFSP"
      },
      "execution_count": 4,
      "outputs": []
    },
    {
      "cell_type": "code",
      "source": [
        "# Compute probabilities\n",
        "P_A = A.sum() / total_transactions\n",
        "P_B = B.sum() / total_transactions\n",
        "P_A_inter_B = (A & B).sum() / total_transactions\n",
        "P_A_union_B = P_A + P_B - P_A_inter_B\n",
        "P_A_given_B = P_A_inter_B / P_B\n",
        "print(f\"P(A): {P_A}\")\n",
        "print(f\"P(B): {P_B}\")\n",
        "print(f\"P(A ∪ B): {P_A_union_B}\")\n",
        "print(f\"P(A ∩ B): {P_A_inter_B}\")\n",
        "print(f\"P(A | B): {P_A_given_B}\")"
      ],
      "metadata": {
        "colab": {
          "base_uri": "https://localhost:8080/"
        },
        "id": "UV5R8XdsUHfl",
        "outputId": "a6f51b14-c8e5-4520-a405-58ae1e3ce44f"
      },
      "execution_count": 5,
      "outputs": [
        {
          "output_type": "stream",
          "name": "stdout",
          "text": [
            "P(A): 0.501\n",
            "P(B): 0.311\n",
            "P(A ∪ B): 0.6400000000000001\n",
            "P(A ∩ B): 0.172\n",
            "P(A | B): 0.5530546623794211\n"
          ]
        }
      ]
    },
    {
      "cell_type": "code",
      "source": [
        "P_health_beauty = (df['Product line'] == 'Health and beauty').sum() / total_transactions\n",
        "print(f\"P(Health & Beauty): {P_health_beauty}\")"
      ],
      "metadata": {
        "colab": {
          "base_uri": "https://localhost:8080/"
        },
        "id": "nywAkZ9nUJcL",
        "outputId": "dc04440f-c7d1-4bd3-be4b-53db68e4da15"
      },
      "execution_count": 6,
      "outputs": [
        {
          "output_type": "stream",
          "name": "stdout",
          "text": [
            "P(Health & Beauty): 0.152\n"
          ]
        }
      ]
    },
    {
      "cell_type": "code",
      "source": [
        "P_more_than_5_given_ewallet = ((df['Quantity'] > 5) & (df['Payment'] == 'Ewallet')).sum() / (df['Payment'] == 'Ewallet').sum()\n",
        "print(f\"P(More than 5 | Ewallet): {P_more_than_5_given_ewallet}\")"
      ],
      "metadata": {
        "colab": {
          "base_uri": "https://localhost:8080/"
        },
        "id": "fj80cuqOW350",
        "outputId": "9f74b93b-c699-49ab-de2a-30852ad35f1c"
      },
      "execution_count": 7,
      "outputs": [
        {
          "output_type": "stream",
          "name": "stdout",
          "text": [
            "P(More than 5 | Ewallet): 0.48695652173913045\n"
          ]
        }
      ]
    },
    {
      "cell_type": "code",
      "source": [
        "P_cash_given_yangon = ((df['Branch'] == 'A') & (df['Payment'] == 'Cash')).sum() / (df['Branch'] == 'A').sum()\n",
        "print(f\"P(Cash | Yangon): {P_cash_given_yangon}\")"
      ],
      "metadata": {
        "colab": {
          "base_uri": "https://localhost:8080/"
        },
        "id": "n4sjs1AzW1oS",
        "outputId": "539a09d1-121c-4174-93b3-5cc0ebc48663"
      },
      "execution_count": 8,
      "outputs": [
        {
          "output_type": "stream",
          "name": "stdout",
          "text": [
            "P(Cash | Yangon): 0.3235294117647059\n"
          ]
        }
      ]
    },
    {
      "cell_type": "code",
      "source": [
        "P_member_rating_above_8 = ((df['Customer type'] == 'Member') & (df['Rating'] > 8)).sum() / total_transactions\n",
        "print(f\"P(Member & Rating > 8): {P_member_rating_above_8}\")"
      ],
      "metadata": {
        "colab": {
          "base_uri": "https://localhost:8080/"
        },
        "id": "ZdLokt_zW0iN",
        "outputId": "b5659591-6a0a-4f66-f38b-8df412cc14bf"
      },
      "execution_count": 9,
      "outputs": [
        {
          "output_type": "stream",
          "name": "stdout",
          "text": [
            "P(Member & Rating > 8): 0.157\n"
          ]
        }
      ]
    },
    {
      "cell_type": "code",
      "source": [
        "# Functions for factorial, permutations, and combinations\n",
        "def permutations(n, r):\n",
        "    return factorial(n) // factorial(n - r)"
      ],
      "metadata": {
        "id": "txZQc6LhUMTH"
      },
      "execution_count": 10,
      "outputs": []
    },
    {
      "cell_type": "code",
      "source": [
        "def combinations(n, r):\n",
        "    return factorial(n) // (factorial(r) * factorial(n - r)) if r <= n else 0"
      ],
      "metadata": {
        "id": "PkC0Y6aIUOUw"
      },
      "execution_count": 11,
      "outputs": []
    },
    {
      "cell_type": "code",
      "source": [
        "# Compute combinatorial values\n",
        "perm_5_of_20 = permutations(20, 5)\n",
        "comb_3_of_6 = combinations(6, 3)\n",
        "fact_branches = factorial(df['Branch'].nunique())\n",
        "print(f\"Permutation (5 of 20): {perm_5_of_20}\")\n",
        "print(f\"Combination (3 of 6): {comb_3_of_6}\")\n",
        "print(f\"Factorial (Branches): {fact_branches}\")"
      ],
      "metadata": {
        "colab": {
          "base_uri": "https://localhost:8080/"
        },
        "id": "fNCHDhJCUQX4",
        "outputId": "e77259f5-9959-492c-cbfb-2dfdc03ee6a1"
      },
      "execution_count": 12,
      "outputs": [
        {
          "output_type": "stream",
          "name": "stdout",
          "text": [
            "Permutation (5 of 20): 1860480\n",
            "Combination (3 of 6): 20\n",
            "Factorial (Branches): 6\n"
          ]
        }
      ]
    },
    {
      "cell_type": "code",
      "source": [
        "comb_5_of_15 = combinations(15, 5)\n",
        "print(f\"Combination (5 of 15): {comb_5_of_15}\")"
      ],
      "metadata": {
        "colab": {
          "base_uri": "https://localhost:8080/"
        },
        "id": "wtMPqczpYLI6",
        "outputId": "786e15ce-d07b-4c6e-fa8d-21283fa2d11e"
      },
      "execution_count": 13,
      "outputs": [
        {
          "output_type": "stream",
          "name": "stdout",
          "text": [
            "Combination (5 of 15): 3003\n"
          ]
        }
      ]
    },
    {
      "cell_type": "code",
      "source": [
        "perm_invoice_codes = permutations(26, 6)\n",
        "print(f\"Permutation (6-letter Invoice): {perm_invoice_codes}\")"
      ],
      "metadata": {
        "colab": {
          "base_uri": "https://localhost:8080/"
        },
        "id": "r9_kHEc7YMFl",
        "outputId": "9da75d94-7deb-46d6-cc63-d0303033e74e"
      },
      "execution_count": 14,
      "outputs": [
        {
          "output_type": "stream",
          "name": "stdout",
          "text": [
            "Permutation (6-letter Invoice): 165765600\n"
          ]
        }
      ]
    }
  ]
}